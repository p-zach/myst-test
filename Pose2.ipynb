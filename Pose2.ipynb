{
  "cells": [
    {
      "cell_type": "markdown",
      "metadata": {
        "id": "xhCSxfYqLPVI"
      },
      "source": [
        "# Pose2"
      ]
    },
    {
      "cell_type": "markdown",
      "metadata": {
        "id": "cF2tPRNbLSIJ"
      },
      "source": [
        "A `Pose2` represents a robot's location and orientation in 2D space; it is a $\\mathcal{SE}(2)$ manifold, so it consists of a position and a rotation: $(x, y,\\theta)$. Its 3-dimensional analog is a `Pose3`. It is included in the top-level `gtsam` package."
      ]
    },
    {
      "cell_type": "markdown",
      "metadata": {
        "id": "OJNfomRj5H-C"
      },
      "source": [
        "<a href=\"https://colab.research.google.com/github/p-zach/myst-test/blob/main/Pose2.ipynb\" target=\"_parent\"><img src=\"https://colab.research.google.com/assets/colab-badge.svg\" alt=\"Open In Colab\"/></a>"
      ]
    },
    {
      "cell_type": "code",
      "execution_count": null,
      "metadata": {
        "colab": {
          "base_uri": "https://localhost:8080/"
        },
        "id": "DZrO0rl2LfIB",
        "outputId": "c0eedbb2-fd4c-4483-acd1-307cfc105124"
      },
      "outputs": [],
      "source": [
        "%pip install gtsam"
      ]
    },
    {
      "cell_type": "code",
      "execution_count": 13,
      "metadata": {
        "id": "FJKBejrlLdrv"
      },
      "outputs": [],
      "source": [
        "import gtsam\n",
        "from gtsam import Pose2, Point2, Rot2\n",
        "import numpy as np"
      ]
    },
    {
      "cell_type": "markdown",
      "metadata": {
        "id": "KacaiUrnLXzR"
      },
      "source": [
        "## Initialization and properties\n",
        "\n",
        "A `Pose2` can be initialized with no arguments, which yields the identity pose, or it can be constructed with a position and rotation."
      ]
    },
    {
      "cell_type": "code",
      "execution_count": 14,
      "metadata": {
        "colab": {
          "base_uri": "https://localhost:8080/"
        },
        "id": "Ej6_SXQMLcH5",
        "outputId": "1d2f0092-b757-40ee-9d85-c1e5f683ec76"
      },
      "outputs": [
        {
          "name": "stdout",
          "output_type": "stream",
          "text": [
            "(0, 0, 0)\n",
            "\n",
            "(1, 2, 1.5708)\n",
            "\n"
          ]
        }
      ],
      "source": [
        "# Identity pose\n",
        "p1 = Pose2()\n",
        "print(p1)\n",
        "\n",
        "R = Rot2.fromDegrees(90)\n",
        "# Point2 is not an object, it is a utility function that creates a 2d float np.array\n",
        "t = Point2(1, 2) # or (1, 2) or [1, 2] or np.array([1, 2])\n",
        "# Pose at (1, 2) and facing north\n",
        "p2 = Pose2(R, t)\n",
        "print(p2)"
      ]
    },
    {
      "cell_type": "markdown",
      "metadata": {
        "id": "hec_a8HHV4Zf"
      },
      "source": [
        "The pose's properties can be accessed using the appropriate members: `x()`, `y()`, `translation()` (which returns a two-element `np.array` representing `x, y`), `theta()`, `rotation()` (which returns a `Rot2`), and `matrix()`.\n",
        "\n",
        "The `matrix()` function returns the pose's rotation and translation in the following form:\n",
        "\n",
        "$ T = \\begin{bmatrix} R & t \\\\ 0 & 1 \\end{bmatrix} = \\begin{bmatrix} \\cos\\theta & -\\sin\\theta & x \\\\ \\sin\\theta & \\cos\\theta & y \\\\ 0 & 0 & 1 \\end{bmatrix} $"
      ]
    },
    {
      "cell_type": "code",
      "execution_count": 15,
      "metadata": {
        "colab": {
          "base_uri": "https://localhost:8080/"
        },
        "id": "Lcj3o7kIV0Ez",
        "outputId": "1724f0e6-a7a9-4850-d5af-842a4ff21aba"
      },
      "outputs": [
        {
          "name": "stdout",
          "output_type": "stream",
          "text": [
            "Location: (1.0, 2.0); also accessible with translation(): [1. 2.]\n",
            "Rotation: 1.5707963267948966; also accessible with rotation(): 1.5707963267948966\n",
            "Position-rotation 3x3 matrix:\n",
            "[[ 6.123234e-17 -1.000000e+00  1.000000e+00]\n",
            " [ 1.000000e+00  6.123234e-17  2.000000e+00]\n",
            " [ 0.000000e+00  0.000000e+00  1.000000e+00]]\n"
          ]
        }
      ],
      "source": [
        "print(f\"Location: ({p2.x()}, {p2.y()}); also accessible with translation(): {p2.translation()}\")\n",
        "\n",
        "# .rotation() returns a Rot2 object; the float value can be accessed with .theta()\n",
        "print(f\"Rotation: {p2.theta()}; also accessible with rotation(): {p2.rotation().theta()}\")\n",
        "\n",
        "print(f\"Position-rotation 3x3 matrix:\\n{p2.matrix()}\")"
      ]
    },
    {
      "cell_type": "markdown",
      "metadata": {
        "id": "iW1E7uMZLjhc"
      },
      "source": [
        "## Operations\n",
        "### Basic operations\n",
        "Points in the global space can be transformed to and from the local space of the `Pose2` using `transformTo` and `transformFrom`."
      ]
    },
    {
      "cell_type": "code",
      "execution_count": 16,
      "metadata": {
        "colab": {
          "base_uri": "https://localhost:8080/"
        },
        "id": "bHh9tce9LLVN",
        "outputId": "ba1169d6-8b19-4a71-dd71-5cbdbfd751e6"
      },
      "outputs": [
        {
          "name": "stdout",
          "output_type": "stream",
          "text": [
            "[5. 5.] transformed by (1, 1, 3.14159)\n",
            " into local space -> [-4. -4.]\n",
            "[-4. -4.] transformed by (1, 1, 3.14159)\n",
            " into global space -> [5. 5.]\n"
          ]
        }
      ],
      "source": [
        "import math\n",
        "\n",
        "global_point = Point2(5, 5)\n",
        "origin = Pose2(Rot2.fromAngle(math.pi), Point2(1, 1))\n",
        "\n",
        "# For a point at (1, 1) that is rotated 180 degrees, a point at (5, 5) in global\n",
        "# space is at (-4, -4) in local space.\n",
        "transformed = origin.transformTo(global_point)\n",
        "print(f\"{global_point} transformed by {origin} into local space -> {transformed}\")\n",
        "\n",
        "reversed = origin.transformFrom(transformed)\n",
        "print(f\"{transformed} transformed by {origin} into global space -> {reversed}\")"
      ]
    },
    {
      "cell_type": "markdown",
      "metadata": {
        "id": "HDutn5zTLnv9"
      },
      "source": [
        "Bearings (angles) and ranges (distances) can be calculated to points using the associated functions `bearing` and `range`."
      ]
    },
    {
      "cell_type": "code",
      "execution_count": 17,
      "metadata": {
        "colab": {
          "base_uri": "https://localhost:8080/"
        },
        "id": "t_KrFGybLpY1",
        "outputId": "9d261bdf-9776-4177-a361-81adfb335538"
      },
      "outputs": [
        {
          "name": "stdout",
          "output_type": "stream",
          "text": [
            "Bearing from (-3, -3, 1.5708)\n",
            " to [-2. -3.]: -1.5707963267948966\n",
            "Bearing from (1, 1, -0.785398)\n",
            " to [0. 2.]: 3.141592653589793\n",
            "Range from (4, 0, -1.5708)\n",
            " to [0. 3.]: 5.0\n"
          ]
        }
      ],
      "source": [
        "p1 = Pose2(Rot2.fromDegrees(90), Point2(-3, -3))\n",
        "point1 = Point2(-2, -3)\n",
        "print(f\"Bearing from {p1} to {point1}: {p1.bearing(point1).theta()}\")\n",
        "\n",
        "p2 = Pose2(Rot2.fromDegrees(-45), Point2(1, 1))\n",
        "p3 = Pose2(Rot2.fromDegrees(180), Point2(0, 2))\n",
        "print(f\"Bearing from {p2} to {p3.translation()}: {p2.bearing(p3.translation()).theta()}\")\n",
        "\n",
        "p4 = Pose2(Rot2.fromDegrees(-90), Point2(4, 0))\n",
        "point2 = Point2(0, 3)\n",
        "print(f\"Range from {p4} to {point2}: {p4.range(point2)}\")"
      ]
    },
    {
      "cell_type": "markdown",
      "metadata": {
        "id": "y90I_MSV6y6G"
      },
      "source": [
        "### Group operations\n",
        "A `Pose2` implements the group operations `identity`, `inverse`, and `compose`. For more information on groups and their use here, see [GTSAM concepts](https://gtsam.org/notes/GTSAM-Concepts.html).\n",
        "\n",
        "#### Identity\n",
        "\n",
        "The `Pose2` identity is $(0, 0, 0)$.\n",
        "\n",
        "#### Inverse\n",
        "\n",
        "The inverse of a pose represents the transformation that undoes the pose. In other words, if you have a pose $T$ that moves from frame A to frame B, its inverse $T^{-1}$ moves from frame B back to frame A. The equation to compute the inverse is as follows:\n",
        "\n",
        "$T^{-1} = (-x \\cos\\theta - y \\sin\\theta, x \\sin\\theta - y \\cos\\theta, -\\theta)$\n",
        "\n",
        "#### Composition\n",
        "\n",
        "The composition of two `Pose2` objects follows the rules of $\\mathcal{SE}(2)$ transformation.\n",
        "\n",
        "Given two poses:\n",
        "- Pose A: $T_A = (x_A, y_A, \\theta_A)$\n",
        "- Pose B: $T_B = (x_B, y_B, \\theta_B)$\n",
        "\n",
        "The composition of these two poses $T_C = T_A \\cdot T_B$ results in:\n",
        "\n",
        "$x_C = x_A + \\cos(\\theta_A) x_B - \\sin(\\theta_A) y_B$\n",
        "\n",
        "$y_C = y_A + \\sin(\\theta_A) x_B + \\cos(\\theta_A) y_B$\n",
        "\n",
        "$\\theta_C = \\theta_A + \\theta_B$\n",
        "\n",
        "Therefore:\n",
        "\n",
        "$T_C = (x_A + \\cos(\\theta_A) x_B - \\sin(\\theta_A) y_B, y_A + \\sin(\\theta_A) x_B + \\cos(\\theta_A) y_B, \\theta_A + \\theta_B)$\n",
        "\n",
        "In other words:\n",
        "- The rotation of Pose A is applied to the translation of Pose B before adding it.\n",
        "- The final rotation is just the sum of the two rotations."
      ]
    },
    {
      "cell_type": "code",
      "execution_count": 18,
      "metadata": {
        "colab": {
          "base_uri": "https://localhost:8080/"
        },
        "id": "i_dEwknx7xMb",
        "outputId": "75e9ca83-7d69-4207-eff1-6e88f64a334b"
      },
      "outputs": [
        {
          "name": "stdout",
          "output_type": "stream",
          "text": [
            "Pose2 identity: (0, 0, 0)\n",
            "\n",
            "Inverse of (-5, 2, 0)\n",
            " -> (5, -2, -0)\n",
            "\n",
            "Inverse of (4, 4, 1.5708)\n",
            " -> (-4, 4, -1.5708)\n",
            "\n",
            "Composition: (-5, 2, 0)\n",
            " * (4, 4, 1.5708)\n",
            " -> (-1, 6, 1.5708)\n",
            "\n",
            "Composition is not commutative: (4, 4, 1.5708)\n",
            " * (-5, 2, 0)\n",
            " = (2, -1, 1.5708)\n",
            "\n"
          ]
        }
      ],
      "source": [
        "print(f\"Pose2 identity: {Pose2.Identity()}\")\n",
        "\n",
        "p1 = Pose2(0, Point2(-5, 2))\n",
        "print(f\"Inverse of {p1} -> {p1.inverse()}\")\n",
        "\n",
        "p2 = Pose2(Rot2.fromDegrees(90), Point2(4, 4))\n",
        "print(f\"Inverse of {p2} -> {p2.inverse()}\")\n",
        "\n",
        "print(f\"Composition: {p1} * {p2} -> {p1 * p2}\")\n",
        "print(f\"Composition is not commutative: {p2} * {p1} = {p2 * p1}\")"
      ]
    },
    {
      "cell_type": "markdown",
      "metadata": {
        "id": "yyFARpm8Ag9u"
      },
      "source": [
        "### Lie group operations\n",
        "\n",
        "A `Pose2` also implements the Lie group operations for exponential mapping, log mapping, and adjoint mapping, as well as other Lie group functionalities. For more information on Lie groups and their use here, see [GTSAM concepts](https://gtsam.org/notes/GTSAM-Concepts.html).\n",
        "\n",
        "#### Exponential mapping\n",
        "\n",
        "The exponential map function `expmap` is used to convert a small motion, like a velocity or perturbation, in the Lie algebra (tangent space) into a `Pose2` transformation in the Lie group $\\mathcal{SE}(2)$. It is used because optimization is easier in the tangent space; transformations behave like vectors there.\n",
        "\n",
        "In tangent space, small motions are represented as:\n",
        "\n",
        "$\\xi = (\\nu_x, \\nu_y, \\omega)$\n",
        "\n",
        "where:\n",
        "- $\\nu_x, \\nu_y$ are small translations in the local frame.\n",
        "- $\\omega$ is a small rotation.\n",
        "\n",
        "The exponential map converts this small motion into a full pose:\n",
        "\n",
        "$T = \\exp(\\xi) = \\begin{cases}\n",
        "    (x, y, \\theta) = (\\nu_x, \\nu_y, \\omega) & \\text{if } \\omega = 0 \\\\\n",
        "    \\left( \\frac{\\sin\\omega}{\\omega} \\nu_x - \\frac{1 - \\cos\\omega}{\\omega} \\nu_y, \\frac{1 - \\cos\\omega}{\\omega} \\nu_x + \\frac{\\sin\\omega}{\\omega} \\nu_y, \\omega \\right) & \\text{otherwise}\n",
        "\\end{cases}$\n",
        "\n",
        "This accounts for rotational effects when mapping from the tangent space back to $\\mathcal{SE}(2)$.\n",
        "\n",
        "#### Log mapping\n",
        "\n",
        "The log map function `logmap` is used to convert a transformation in $\\mathcal{SE}(2)$ (such as a `Pose2`) into a vector in tangent space. It can be used to convert a pose to its small motion representation or compute the difference between two poses.\n",
        "\n",
        "For a pose $T = (x,y,\\theta)$, `logmap` finds the equivalent motion in tangent space:\n",
        "\n",
        "$\\log(T) = \\left( \\begin{array}{c} V^{-1} \\cdot t \\\\ \\theta \\\\ \\end{array} \\right) = \\xi = (\\nu_x, \\nu_y, \\omega)$\n",
        "\n",
        "where\n",
        "\n",
        "$V^{-1} = \\frac{1}{A^2+B^2} \\left( \\begin{array}{cc} A & B \\\\ -B & A \\end{array} \\right),\\\\ A = \\frac{\\sin(\\theta)}{\\theta},\\\\ B = \\frac{1 - \\cos(\\theta)}{\\theta},\\\\ t = (x, y)$\n",
        "\n",
        "#### Adjoint mapping\n",
        "\n",
        "TODO"
      ]
    },
    {
      "cell_type": "code",
      "execution_count": 69,
      "metadata": {
        "colab": {
          "base_uri": "https://localhost:8080/"
        },
        "id": "hzsXmrzdAorc",
        "outputId": "0849384d-ecf0-4f89-e9c9-dbe208b6e40c"
      },
      "outputs": [
        {
          "name": "stdout",
          "output_type": "stream",
          "text": [
            "[-0.5  0.5  0. ]\n",
            "(0.5, 0.5, 0)\n",
            "\n",
            "(0.5, 0.5, 1.5708)\n",
            "\n",
            "(0.5, -0.5, 1.5708)\n",
            "\n"
          ]
        }
      ],
      "source": [
        "# Pose2.Expmap(...) and Pose2.Logmap(...) apply their\n",
        "# respective functions to the argument at identity.\n",
        "\n",
        "pose = Pose2(Rot2.fromDegrees(135), Point2(10, 20))\n",
        "xi = gtsam.Point3(10, 20, Rot2.fromDegrees(135).theta())\n",
        "\n",
        "# what is logmap() for?\n",
        "# what do I do with adjointMap()? what does it do that retract() doesn't?\n",
        "\n",
        "simple_pose = Pose2(Rot2.fromDegrees(90), Point2(1, 0))\n",
        "\n",
        "# twist = gtsam.Point3(.5, .5, Rot2.fromDegrees(90).theta())\n",
        "twist = gtsam.Point3(.5, .5, 0)\n",
        "\n",
        "adj_twist = simple_pose.AdjointMap() @ twist\n",
        "\n",
        "print(adj_twist)\n",
        "print(Pose2.Expmap(twist))\n",
        "\n",
        "# Which one of these is correct?\n",
        "print(simple_pose.retract(twist))\n",
        "print(simple_pose.retract(adj_twist))\n",
        "\n",
        "\n",
        "# print(pose.retract(twist))\n",
        "# print(Pose2.Expmap(twist))\n",
        "# print(pose.adjointMap_(twist))"
      ]
    },
    {
      "cell_type": "markdown",
      "metadata": {
        "id": "Oka0IPN2Lp29"
      },
      "source": [
        "## Example: SLAM\n",
        "`Pose2` can be used as the basis to perform simultaneous localization and mapping (SLAM). First, we must initialize the [factor graphs](insert link to factor graph docs)...\n"
      ]
    },
    {
      "cell_type": "code",
      "execution_count": 20,
      "metadata": {
        "id": "QZQrGCWTLtdH"
      },
      "outputs": [],
      "source": [
        "# SLAM"
      ]
    }
  ],
  "metadata": {
    "colab": {
      "provenance": []
    },
    "kernelspec": {
      "display_name": "Python 3",
      "name": "python3"
    },
    "language_info": {
      "name": "python"
    }
  },
  "nbformat": 4,
  "nbformat_minor": 0
}
