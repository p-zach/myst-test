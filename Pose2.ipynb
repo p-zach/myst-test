{
  "nbformat": 4,
  "nbformat_minor": 0,
  "metadata": {
    "colab": {
      "provenance": []
    },
    "kernelspec": {
      "name": "python3",
      "display_name": "Python 3"
    },
    "language_info": {
      "name": "python"
    }
  },
  "cells": [
    {
      "cell_type": "markdown",
      "source": [
        "# Pose2"
      ],
      "metadata": {
        "id": "xhCSxfYqLPVI"
      }
    },
    {
      "cell_type": "markdown",
      "source": [
        "A `Pose2` represents a robot's location and orientation in 2D space. It consists of a position `(x, y)` and a rotation `theta`. Its 3-dimensional analog is a `Pose3`. It is included in the top-level `gtsam` package."
      ],
      "metadata": {
        "id": "cF2tPRNbLSIJ"
      }
    },
    {
      "cell_type": "markdown",
      "source": [
        "<a href=\"https://colab.research.google.com/github/p-zach/myst-test/blob/main/Pose2.ipynb\" target=\"_parent\"><img src=\"https://colab.research.google.com/assets/colab-badge.svg\" alt=\"Open In Colab\"/></a>"
      ],
      "metadata": {
        "id": "OJNfomRj5H-C"
      }
    },
    {
      "cell_type": "code",
      "source": [
        "%pip install gtsam"
      ],
      "metadata": {
        "colab": {
          "base_uri": "https://localhost:8080/"
        },
        "id": "DZrO0rl2LfIB",
        "outputId": "c5e50e92-a851-4361-e181-17ef83751b13"
      },
      "execution_count": 1,
      "outputs": [
        {
          "output_type": "stream",
          "name": "stdout",
          "text": [
            "Collecting gtsam\n",
            "  Downloading gtsam-4.2-cp311-cp311-manylinux2014_x86_64.whl.metadata (7.6 kB)\n",
            "Requirement already satisfied: numpy>=1.11.0 in /usr/local/lib/python3.11/dist-packages (from gtsam) (1.26.4)\n",
            "Requirement already satisfied: pyparsing>=2.4.2 in /usr/local/lib/python3.11/dist-packages (from gtsam) (3.2.1)\n",
            "Downloading gtsam-4.2-cp311-cp311-manylinux2014_x86_64.whl (22.4 MB)\n",
            "\u001b[2K   \u001b[90m━━━━━━━━━━━━━━━━━━━━━━━━━━━━━━━━━━━━━━━━\u001b[0m \u001b[32m22.4/22.4 MB\u001b[0m \u001b[31m2.6 MB/s\u001b[0m eta \u001b[36m0:00:00\u001b[0m\n",
            "\u001b[?25hInstalling collected packages: gtsam\n",
            "Successfully installed gtsam-4.2\n"
          ]
        }
      ]
    },
    {
      "cell_type": "code",
      "source": [
        "import gtsam\n",
        "from gtsam import Pose2, Rot2\n",
        "import numpy as np"
      ],
      "metadata": {
        "id": "FJKBejrlLdrv"
      },
      "execution_count": 2,
      "outputs": []
    },
    {
      "cell_type": "markdown",
      "source": [
        "## Initialization\n",
        "\n",
        "A `Pose2` can be initialized with no arguments, which yields the identity pose, or it can be constructed with a position and rotation."
      ],
      "metadata": {
        "id": "KacaiUrnLXzR"
      }
    },
    {
      "cell_type": "code",
      "source": [
        "# Identity pose\n",
        "p1 = Pose2()\n",
        "print(p1)\n",
        "\n",
        "# Pose at (1, 2) and facing north\n",
        "R = Rot2.fromDegrees(90)\n",
        "t = (1, 2) # or [1, 2] or np.array([1, 2])\n",
        "p2 = Pose2(R, t)\n",
        "print(p2)"
      ],
      "metadata": {
        "colab": {
          "base_uri": "https://localhost:8080/"
        },
        "id": "Ej6_SXQMLcH5",
        "outputId": "85ba760b-5cf5-4712-ee87-3812a5ae087f"
      },
      "execution_count": 3,
      "outputs": [
        {
          "output_type": "stream",
          "name": "stdout",
          "text": [
            "(0, 0, 0)\n",
            "\n",
            "(1, 2, 1.5708)\n",
            "\n"
          ]
        }
      ]
    },
    {
      "cell_type": "markdown",
      "source": [
        "The pose's properties can be accessed using the appropriate members."
      ],
      "metadata": {
        "id": "hec_a8HHV4Zf"
      }
    },
    {
      "cell_type": "code",
      "source": [
        "print(f\"Location: ({p2.x()}, {p2.y()}); also accessible with translation(): {p2.translation()}\")\n",
        "\n",
        "# .rotation() returns a Rot2 object; the float value can be accessed with .theta()\n",
        "print(f\"Rotation: {p2.theta()}; also accessible with rotation(): {p2.rotation().theta()}\")\n",
        "\n",
        "print(f\"Position-rotation 3x3 matrix:\\n{p2.matrix()}\")"
      ],
      "metadata": {
        "colab": {
          "base_uri": "https://localhost:8080/"
        },
        "id": "Lcj3o7kIV0Ez",
        "outputId": "8493fddd-1a77-4d86-f9a7-ef0ff5ee509f"
      },
      "execution_count": 21,
      "outputs": [
        {
          "output_type": "stream",
          "name": "stdout",
          "text": [
            "Location: (1.0, 2.0); also accessible with translation(): [1. 2.]\n",
            "Rotation: 1.5707963267948966; also accessible with rotation(): 1.5707963267948966\n",
            "Position-rotation 3x3 matrix:\n",
            "[[ 6.123234e-17 -1.000000e+00  1.000000e+00]\n",
            " [ 1.000000e+00  6.123234e-17  2.000000e+00]\n",
            " [ 0.000000e+00  0.000000e+00  1.000000e+00]]\n"
          ]
        }
      ]
    },
    {
      "cell_type": "markdown",
      "source": [
        "## Operations\n",
        "\n",
        "Points in the global space can be transformed to and from the local space of the `Pose2` using `transformTo` and `transformFrom`."
      ],
      "metadata": {
        "id": "iW1E7uMZLjhc"
      }
    },
    {
      "cell_type": "code",
      "execution_count": 5,
      "metadata": {
        "colab": {
          "base_uri": "https://localhost:8080/"
        },
        "id": "bHh9tce9LLVN",
        "outputId": "7bfb2bfd-b2bd-48be-c53b-7a1bc7d7a3c2"
      },
      "outputs": [
        {
          "output_type": "stream",
          "name": "stdout",
          "text": [
            "(5, 5) transformed by (1, 1, 3.14159)\n",
            " into local space -> [-4. -4.]\n",
            "[-4. -4.] transformed by (1, 1, 3.14159)\n",
            " into global space -> [5. 5.]\n"
          ]
        }
      ],
      "source": [
        "import math\n",
        "\n",
        "global_point = (5, 5)\n",
        "origin = Pose2(Rot2.fromAngle(math.pi), (1, 1))\n",
        "\n",
        "# For a point at (1, 1) that is rotated 180 degrees, a point at (5, 5) in global\n",
        "# space is at (-4, -4) in local space.\n",
        "transformed = origin.transformTo(global_point)\n",
        "print(f\"{global_point} transformed by {origin} into local space -> {transformed}\")\n",
        "\n",
        "reversed = origin.transformFrom(transformed)\n",
        "print(f\"{transformed} transformed by {origin} into global space -> {reversed}\")"
      ]
    },
    {
      "cell_type": "markdown",
      "source": [
        "Bearings (angles) and ranges (distances) can be calculated to points using the associated functions."
      ],
      "metadata": {
        "id": "HDutn5zTLnv9"
      }
    },
    {
      "cell_type": "code",
      "source": [
        "p1 = Pose2(Rot2.fromDegrees(90), (-3, -3))\n",
        "point1 = (-2, -3)\n",
        "print(f\"Bearing from {p1} to {point1}: {p1.bearing(point1).theta()}\")\n",
        "\n",
        "p2 = Pose2(Rot2.fromDegrees(-45), (1, 1))\n",
        "p3 = Pose2(Rot2.fromDegrees(180), (0, 2))\n",
        "print(f\"Bearing from {p2} to {p3.translation()}: {p2.bearing(p3.translation()).theta()}\")\n",
        "\n",
        "p4 = Pose2(Rot2.fromDegrees(-90), (4, 0))\n",
        "point2 = (0, 3)\n",
        "print(f\"Range from {p4} to {point2}: {p4.range(point2)}\")"
      ],
      "metadata": {
        "colab": {
          "base_uri": "https://localhost:8080/"
        },
        "id": "t_KrFGybLpY1",
        "outputId": "4affa35b-f8f8-4ee8-d120-b48881b0aabb"
      },
      "execution_count": 30,
      "outputs": [
        {
          "output_type": "stream",
          "name": "stdout",
          "text": [
            "Bearing from (-3, -3, 1.5708)\n",
            " to (-2, -3): -1.5707963267948966\n",
            "Bearing from (1, 1, -0.785398)\n",
            " to [0. 2.]: 3.141592653589793\n",
            "Range from (4, 0, -1.5708)\n",
            " to (0, 3): 5.0\n"
          ]
        }
      ]
    },
    {
      "cell_type": "markdown",
      "source": [
        "## Example: SLAM\n",
        "`Pose2` can be used as the basis to perform simultaneous localization and mapping (SLAM). First, we must initialize the [factor graphs](insert link to factor graph docs)...\n"
      ],
      "metadata": {
        "id": "Oka0IPN2Lp29"
      }
    },
    {
      "cell_type": "code",
      "source": [
        "# SLAM"
      ],
      "metadata": {
        "id": "QZQrGCWTLtdH"
      },
      "execution_count": 7,
      "outputs": []
    }
  ]
}